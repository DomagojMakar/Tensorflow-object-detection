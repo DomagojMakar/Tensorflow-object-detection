{
 "cells": [
  {
   "cell_type": "markdown",
   "metadata": {},
   "source": [
    "# Dependencies"
   ]
  },
  {
   "cell_type": "code",
   "execution_count": 1,
   "metadata": {},
   "outputs": [
    {
     "name": "stdout",
     "output_type": "stream",
     "text": [
      "Requirement already satisfied: opencv-python in c:\\users\\dimbo\\desktop\\sunovo\\tfodcourse\\tfod\\lib\\site-packages (4.5.3.56)\n",
      "Requirement already satisfied: numpy>=1.17.3 in c:\\users\\dimbo\\desktop\\sunovo\\tfodcourse\\tfod\\lib\\site-packages (from opencv-python) (1.19.5)\n"
     ]
    }
   ],
   "source": [
    "# Installing opencv\n",
    "!pip install opencv-python"
   ]
  },
  {
   "cell_type": "code",
   "execution_count": 1,
   "metadata": {},
   "outputs": [],
   "source": [
    "# Import opencv\n",
    "import cv2 \n",
    "\n",
    "# Import uuid\n",
    "import uuid\n",
    "\n",
    "# Import Operating System\n",
    "# For file paths in different os's\n",
    "import os\n",
    "\n",
    "# Import time\n",
    "import time"
   ]
  },
  {
   "cell_type": "code",
   "execution_count": 1,
   "metadata": {},
   "outputs": [],
   "source": [
    "# Setup Folders "
   ]
  },
  {
   "cell_type": "code",
   "execution_count": 8,
   "metadata": {},
   "outputs": [],
   "source": [
    "# Object types\n",
    "labels = ['BlackCandy', 'GreenCandy', 'WhiteCandy', 'YellowCandy']\n",
    "labels = ['GreenCandy']\n",
    "number_imgs = 200"
   ]
  },
  {
   "cell_type": "code",
   "execution_count": 9,
   "metadata": {},
   "outputs": [],
   "source": [
    "# Setitng up images path\n",
    "IMAGES_PATH = os.path.join('Tensorflow', 'workspace', 'images', 'collectedimages')"
   ]
  },
  {
   "cell_type": "code",
   "execution_count": 10,
   "metadata": {},
   "outputs": [],
   "source": [
    "# For linux (posix) copied from github\n",
    "# Creating folders for each class\n",
    "if not os.path.exists(IMAGES_PATH):\n",
    "    if os.name == 'posix':\n",
    "        !mkdir -p {IMAGES_PATH}\n",
    "    if os.name == 'nt':\n",
    "         !mkdir {IMAGES_PATH}\n",
    "for label in labels:\n",
    "    path = os.path.join(IMAGES_PATH, label)\n",
    "    if not os.path.exists(path):\n",
    "        !mkdir {path}"
   ]
  },
  {
   "cell_type": "markdown",
   "metadata": {},
   "source": [
    "# Capture Images"
   ]
  },
  {
   "cell_type": "code",
   "execution_count": 11,
   "metadata": {
    "scrolled": true
   },
   "outputs": [
    {
     "name": "stdout",
     "output_type": "stream",
     "text": [
      "Collecting images for GreenCandy\n",
      "Collecting image 0\n",
      "Collecting image 1\n",
      "Collecting image 2\n",
      "Collecting image 3\n",
      "Collecting image 4\n",
      "Collecting image 5\n",
      "Collecting image 6\n",
      "Collecting image 7\n",
      "Collecting image 8\n",
      "Collecting image 9\n"
     ]
    }
   ],
   "source": [
    "# Connect to camera, loop trough all the labels for each label take number_imgs number of images\n",
    "for label in labels:\n",
    "    cap = cv2.VideoCapture(1)\n",
    "    print('Collecting images for {}'.format(label))\n",
    "    time.sleep(5)\n",
    "    for imgnum in range(number_imgs):\n",
    "        print('Collecting image {}'.format(imgnum))\n",
    "        ret, frame = cap.read()\n",
    "        imgname = os.path.join(IMAGES_PATH,label,label+'.'+'{}.jpg'.format(str(uuid.uuid1())))\n",
    "        cv2.imwrite(imgname, frame)\n",
    "        cv2.imshow('frame', frame)\n",
    "        time.sleep(4)\n",
    "\n",
    "        if cv2.waitKey(1) & 0xFF == ord('q'):\n",
    "            break\n",
    "cap.release()\n",
    "cv2.destroyAllWindows()"
   ]
  },
  {
   "cell_type": "markdown",
   "metadata": {},
   "source": [
    "# Capture Images - basler"
   ]
  },
  {
   "cell_type": "code",
   "execution_count": null,
   "metadata": {},
   "outputs": [],
   "source": [
    "# Same as above, but for basler camera\n",
    "# bayer rg8\n",
    "import pypylon.p# Capture Images# Capture Imagesylon as pylon\n",
    "import cv2\n",
    "\n",
    "try:\n",
    "\n",
    "    # We can optionally define a Device Info Object to use in finding a specific camera\n",
    "    info = pylon.DeviceInfo()\n",
    "    info.SetSerialNumber('23029762')\n",
    "\n",
    "    # The InstantCamera is generic (interface agnostic)\n",
    "    # It encapsulates the physical camera and driver into one convinient object\n",
    "    # Open the first camera found that matches the Device Info Object (optional)\n",
    "    camera = pylon.InstantCamera(pylon.TlFactory.GetInstance().CreateFirstDevice(info))\n",
    "\n",
    "    print(\"Using Camera : \", camera.GetDeviceInfo().GetFriendlyName())\n",
    "\n",
    "    # Open the camera to access features\n",
    "    camera.Open()\n",
    "\n",
    "    # We use the Genicam API to change features via strings\n",
    "    # because we are programming generically\n",
    "    camera.GetNodeMap().GetNode('Width').SetValue(3088)\n",
    "    camera.GetNodeMap().GetNode('Height').SetValue(2064)\n",
    "    #camera.PixelFormat = \"BayerRG8\"\n",
    "\n",
    "    \n",
    "    scale_percent = 40 # percent of original size\n",
    "\n",
    "    # Driver/Grabber features are natively supported by the InstantCamera API\n",
    "    # Because they are common to all camera interfaces\n",
    "    camera.MaxNumBuffer.SetValue(20) # For demo only. Default is 10.\n",
    "\n",
    "    # Start grabbing images.\n",
    "    # The camera's physical acquisition starts, and the driver's streamgrabber is configured (buffers created, etc.)\n",
    "    # StartGrabbingMax(numImages) will call StopGrabbing() automatically when numImages are retrieved.\n",
    "    #while(true):\n",
    "        \n",
    "    time.sleep(5)\n",
    "    counter = 0\n",
    "    \n",
    "    for label in labels:\n",
    "        print('Collecting images for {}'.format(label))\n",
    "        for imgnum in range(number_imgs):\n",
    "            print('Collecting image {}'.format(imgnum))\n",
    "            camera.StartGrabbingMax(1)\n",
    "\n",
    "            while camera.IsGrabbing():\n",
    "\n",
    "                # Retrieve a GrabResult from the driver\n",
    "                result = camera.RetrieveResult(5000,pylon.TimeoutHandling_ThrowException)\n",
    "\n",
    "                # The GrabResult is a container. It could hold a good image, corrupt image, no data, etc.\n",
    "                if result.GrabSucceeded:\n",
    "                    #print (\"\")\n",
    "                    #print (\"Grab Result Succeeded! We have an Image!\")\n",
    "                    #print (\" Image number              : \", result.GetBlockID())\n",
    "                    #print (\" Dimensions                : \", result.GetWidth(), \"x\", result.GetHeight())\n",
    "                    buffer = result.GetBuffer()\n",
    "                    #print (\" Gray value of first pixel : \", buffer[0])\n",
    "\n",
    "                    # Display using OpenCV (optional for this example)\n",
    "                    # imshow supports only 1,3,4 bytes/pixel. YUV is 2. So we convert to BGR\n",
    "                    if pylon.IsYUV(result.GetPixelType()):\n",
    "                        myImage = cv2.cvtColor(result.GetArray(), cv2.COLOR_YUV2BGR_YUYV )\n",
    "                        #print (\"using isyuv method\")\n",
    "                    else:\n",
    "                        myImage = cv2.cvtColor(result.GetArray(), cv2.COLOR_BAYER_RG2RGB) # GetArray() returns a numpy array suitable for OpenCV\n",
    "                        #print(\"not using isyuv\")\n",
    "\n",
    "                    width = int(myImage.shape[1] * scale_percent / 100)\n",
    "                    height = int(myImage.shape[0] * scale_percent / 100)\n",
    "                    dim = (width, height)\n",
    "\n",
    "                    resized = cv2.resize(myImage, dim, interpolation = cv2.INTER_AREA)\n",
    "                    imgname = os.path.join(IMAGES_PATH,label,label+'.'+'{}.jpg'.format(str(uuid.uuid1())))\n",
    "                    cv2.imwrite(imgname, resized)\n",
    "                    cv2.imshow('', resized)\n",
    "                    cv2.waitKey(1)\n",
    "\n",
    "                #else:\n",
    "                    #print (\"\")\n",
    "                    #print (\"Grab Result Failed!\")\n",
    "                    #print (\" Error Description : \", result.GetErrorDescription())\n",
    "                    #print (\" Error Code        : \", result.GetErrorCode())\n",
    "\n",
    "            print (\"\")\n",
    "            print (\"finished!\")\n",
    "\n",
    "            cv2.waitKey(0)\n",
    "            cv2.destroyAllWindows()\n",
    "    \n",
    "except pylon.GenericException as err:\n",
    "    print(\"Pylon error: {0}\".format(err))"
   ]
  },
  {
   "cell_type": "markdown",
   "metadata": {},
   "source": [
    "# Labelling"
   ]
  },
  {
   "cell_type": "code",
   "execution_count": 17,
   "metadata": {},
   "outputs": [
    {
     "name": "stdout",
     "output_type": "stream",
     "text": [
      "Requirement already satisfied: pyqt5 in c:\\users\\dimbo\\desktop\\sunovo\\tfodcourse\\tfod\\lib\\site-packages (5.15.4)\n",
      "Requirement already satisfied: lxml in c:\\users\\dimbo\\desktop\\sunovo\\tfodcourse\\tfod\\lib\\site-packages (4.6.3)\n",
      "Requirement already satisfied: PyQt5-Qt5>=5.15 in c:\\users\\dimbo\\desktop\\sunovo\\tfodcourse\\tfod\\lib\\site-packages (from pyqt5) (5.15.2)\n",
      "Requirement already satisfied: PyQt5-sip<13,>=12.8 in c:\\users\\dimbo\\desktop\\sunovo\\tfodcourse\\tfod\\lib\\site-packages (from pyqt5) (12.9.0)\n"
     ]
    }
   ],
   "source": [
    "# Installing prerequisites for labelimg\n",
    "!pip install --upgrade pyqt5 lxml"
   ]
  },
  {
   "cell_type": "code",
   "execution_count": 18,
   "metadata": {},
   "outputs": [],
   "source": [
    "LABELIMG_PATH = os.path.join('Tensorflow', 'labelimg')"
   ]
  },
  {
   "cell_type": "code",
   "execution_count": 19,
   "metadata": {},
   "outputs": [],
   "source": [
    "# Clone the labelimage github into folder\n",
    "if not os.path.exists(LABELIMG_PATH):\n",
    "    !mkdir {LABELIMG_PATH}\n",
    "    !git clone https://github.com/tzutalin/labelImg {LABELIMG_PATH}"
   ]
  },
  {
   "cell_type": "code",
   "execution_count": 20,
   "metadata": {},
   "outputs": [],
   "source": [
    "# Instructions from labelimage\n",
    "if os.name == 'posix':\n",
    "    !make qt5py3\n",
    "if os.name =='nt':\n",
    "    !cd {LABELIMG_PATH} && pyrcc5 -o libs/resources.py resources.qrc"
   ]
  },
  {
   "cell_type": "code",
   "execution_count": 27,
   "metadata": {
    "scrolled": false
   },
   "outputs": [
    {
     "name": "stdout",
     "output_type": "stream",
     "text": [
      "Image:C:\\Users\\Dimbo\\Desktop\\MxedCndy\\241629321_967084880506154_5757955282905829290_n.jpg -> Annotation:C:/Users/Dimbo/Desktop/MxedCndy/241629321_967084880506154_5757955282905829290_n.xml\n",
      "Image:C:\\Users\\Dimbo\\Desktop\\MxedCndy\\241748666_1011337222976786_1781842510539338679_n.jpg -> Annotation:C:/Users/Dimbo/Desktop/MxedCndy/241748666_1011337222976786_1781842510539338679_n.xml\n",
      "Image:C:\\Users\\Dimbo\\Desktop\\MxedCndy\\241837255_410323350665947_5048049313318952450_n.jpg -> Annotation:C:/Users/Dimbo/Desktop/MxedCndy/241837255_410323350665947_5048049313318952450_n.xml\n",
      "Image:C:\\Users\\Dimbo\\Desktop\\MxedCndy\\241841237_2391171887687031_4877512896499750036_n.jpg -> Annotation:C:/Users/Dimbo/Desktop/MxedCndy/241841237_2391171887687031_4877512896499750036_n.xml\n",
      "Image:C:\\Users\\Dimbo\\Desktop\\MxedCndy\\241865798_1076507279821953_5222170422717434218_n.jpg -> Annotation:C:/Users/Dimbo/Desktop/MxedCndy/241865798_1076507279821953_5222170422717434218_n.xml\n",
      "Cancel creation.\n",
      "Image:C:\\Users\\Dimbo\\Desktop\\MxedCndy\\241867721_4500590003332918_4726596069702531066_n.jpg -> Annotation:C:/Users/Dimbo/Desktop/MxedCndy/241867721_4500590003332918_4726596069702531066_n.xml\n",
      "Image:C:\\Users\\Dimbo\\Desktop\\MxedCndy\\241871112_941609156397242_3423050094638931381_n.jpg -> Annotation:C:/Users/Dimbo/Desktop/MxedCndy/241871112_941609156397242_3423050094638931381_n.xml\n",
      "Image:C:\\Users\\Dimbo\\Desktop\\MxedCndy\\241876591_4404850859581520_654703262493143012_n.jpg -> Annotation:C:/Users/Dimbo/Desktop/MxedCndy/241876591_4404850859581520_654703262493143012_n.xml\n",
      "Image:C:\\Users\\Dimbo\\Desktop\\MxedCndy\\241878855_4235827543179247_6849519641733114528_n.jpg -> Annotation:C:/Users/Dimbo/Desktop/MxedCndy/241878855_4235827543179247_6849519641733114528_n.xml\n",
      "Image:C:\\Users\\Dimbo\\Desktop\\MxedCndy\\241878856_1072219773521365_1129767504309152794_n.jpg -> Annotation:C:/Users/Dimbo/Desktop/MxedCndy/241878856_1072219773521365_1129767504309152794_n.xml\n",
      "Image:C:\\Users\\Dimbo\\Desktop\\MxedCndy\\241879675_581533692987518_879058863170077292_n (1).jpg -> Annotation:C:/Users/Dimbo/Desktop/MxedCndy/241879675_581533692987518_879058863170077292_n (1).xml\n",
      "Image:C:\\Users\\Dimbo\\Desktop\\MxedCndy\\241879675_581533692987518_879058863170077292_n.jpg -> Annotation:C:/Users/Dimbo/Desktop/MxedCndy/241879675_581533692987518_879058863170077292_n.xml\n",
      "Cancel creation.\n",
      "Cancel creation.\n",
      "Image:C:\\Users\\Dimbo\\Desktop\\MxedCndy\\241886207_939683406890448_810817246878395665_n.jpg -> Annotation:C:/Users/Dimbo/Desktop/MxedCndy/241886207_939683406890448_810817246878395665_n.xml\n",
      "Cancel creation.\n",
      "Image:C:\\Users\\Dimbo\\Desktop\\MxedCndy\\241886486_374803304111991_932573653713590835_n.jpg -> Annotation:C:/Users/Dimbo/Desktop/MxedCndy/241886486_374803304111991_932573653713590835_n.xml\n",
      "Image:C:\\Users\\Dimbo\\Desktop\\MxedCndy\\241888967_582338189589647_4805479988899888957_n.jpg -> Annotation:C:/Users/Dimbo/Desktop/MxedCndy/241888967_582338189589647_4805479988899888957_n.xml\n",
      "Cancel creation.\n",
      "Image:C:\\Users\\Dimbo\\Desktop\\MxedCndy\\241888969_445316533425976_7563529957073749013_n.jpg -> Annotation:C:/Users/Dimbo/Desktop/MxedCndy/241888969_445316533425976_7563529957073749013_n.xml\n",
      "Image:C:\\Users\\Dimbo\\Desktop\\MxedCndy\\241907241_2977298089151408_3504828501277383838_n.jpg -> Annotation:C:/Users/Dimbo/Desktop/MxedCndy/241907241_2977298089151408_3504828501277383838_n.xml\n",
      "Image:C:\\Users\\Dimbo\\Desktop\\MxedCndy\\241913511_603865027664396_6890718606817392451_n.jpg -> Annotation:C:/Users/Dimbo/Desktop/MxedCndy/241913511_603865027664396_6890718606817392451_n.xml\n",
      "Image:C:\\Users\\Dimbo\\Desktop\\MxedCndy\\241923726_997175354411505_6784308805983251608_n.jpg -> Annotation:C:/Users/Dimbo/Desktop/MxedCndy/241923726_997175354411505_6784308805983251608_n.xml\n",
      "Image:C:\\Users\\Dimbo\\Desktop\\MxedCndy\\241931130_368356824840439_5824417740658638707_n.jpg -> Annotation:C:/Users/Dimbo/Desktop/MxedCndy/241931130_368356824840439_5824417740658638707_n.xml\n",
      "Image:C:\\Users\\Dimbo\\Desktop\\MxedCndy\\241956657_589746025530769_934333022180734140_n.jpg -> Annotation:C:/Users/Dimbo/Desktop/MxedCndy/241956657_589746025530769_934333022180734140_n.xml\n",
      "Cancel creation.\n",
      "Image:C:\\Users\\Dimbo\\Desktop\\MxedCndy\\241966166_392952699087606_2922244934505979663_n.jpg -> Annotation:C:/Users/Dimbo/Desktop/MxedCndy/241966166_392952699087606_2922244934505979663_n.xml\n",
      "Image:C:\\Users\\Dimbo\\Desktop\\MxedCndy\\241973340_1014015079434880_1044033638562739656_n.jpg -> Annotation:C:/Users/Dimbo/Desktop/MxedCndy/241973340_1014015079434880_1044033638562739656_n.xml\n",
      "Image:C:\\Users\\Dimbo\\Desktop\\MxedCndy\\241981662_1036318750241864_8290960495497604197_n.jpg -> Annotation:C:/Users/Dimbo/Desktop/MxedCndy/241981662_1036318750241864_8290960495497604197_n.xml\n",
      "Cancel creation.\n",
      "Image:C:\\Users\\Dimbo\\Desktop\\MxedCndy\\241984069_368910294682219_3933793304623241374_n.jpg -> Annotation:C:/Users/Dimbo/Desktop/MxedCndy/241984069_368910294682219_3933793304623241374_n.xml\n",
      "Image:C:\\Users\\Dimbo\\Desktop\\MxedCndy\\242006113_313021610590905_2348212418333840297_n.jpg -> Annotation:C:/Users/Dimbo/Desktop/MxedCndy/242006113_313021610590905_2348212418333840297_n.xml\n",
      "Cancel creation.\n",
      "Image:C:\\Users\\Dimbo\\Desktop\\MxedCndy\\242018325_599743197712964_6196498716479613905_n.jpg -> Annotation:C:/Users/Dimbo/Desktop/MxedCndy/242018325_599743197712964_6196498716479613905_n.xml\n",
      "Image:C:\\Users\\Dimbo\\Desktop\\MxedCndy\\242022982_864141414492468_8317034976972436036_n.jpg -> Annotation:C:/Users/Dimbo/Desktop/MxedCndy/242022982_864141414492468_8317034976972436036_n.xml\n",
      "Image:C:\\Users\\Dimbo\\Desktop\\MxedCndy\\242023008_357456152742343_7204343975088878154_n.jpg -> Annotation:C:/Users/Dimbo/Desktop/MxedCndy/242023008_357456152742343_7204343975088878154_n.xml\n",
      "Image:C:\\Users\\Dimbo\\Desktop\\MxedCndy\\242031218_391889102440939_1901153017601102965_n.jpg -> Annotation:C:/Users/Dimbo/Desktop/MxedCndy/242031218_391889102440939_1901153017601102965_n.xml\n",
      "Cancel creation.\n",
      "Image:C:\\Users\\Dimbo\\Desktop\\MxedCndy\\242031220_883105935667352_1013689290183415223_n.jpg -> Annotation:C:/Users/Dimbo/Desktop/MxedCndy/242031220_883105935667352_1013689290183415223_n.xml\n",
      "Image:C:\\Users\\Dimbo\\Desktop\\MxedCndy\\242031220_3167555943531038_3802198946977711508_n.jpg -> Annotation:C:/Users/Dimbo/Desktop/MxedCndy/242031220_3167555943531038_3802198946977711508_n.xml\n",
      "Image:C:\\Users\\Dimbo\\Desktop\\MxedCndy\\242033909_1406623726399558_4221522333146540703_n.jpg -> Annotation:C:/Users/Dimbo/Desktop/MxedCndy/242033909_1406623726399558_4221522333146540703_n.xml\n",
      "Image:C:\\Users\\Dimbo\\Desktop\\MxedCndy\\242087977_838612533465800_7676776284099095276_n.jpg -> Annotation:C:/Users/Dimbo/Desktop/MxedCndy/242087977_838612533465800_7676776284099095276_n.xml\n"
     ]
    },
    {
     "name": "stderr",
     "output_type": "stream",
     "text": [
      "qt.gui.icc: fromIccProfile: failed minimal tag size sanity\n",
      "qt.gui.icc: fromIccProfile: failed minimal tag size sanity\n",
      "qt.gui.icc: fromIccProfile: failed minimal tag size sanity\n",
      "qt.gui.icc: fromIccProfile: failed minimal tag size sanity\n",
      "qt.gui.icc: fromIccProfile: failed minimal tag size sanity\n",
      "qt.gui.icc: fromIccProfile: failed minimal tag size sanity\n",
      "qt.gui.icc: fromIccProfile: failed minimal tag size sanity\n",
      "qt.gui.icc: fromIccProfile: failed minimal tag size sanity\n",
      "qt.gui.icc: fromIccProfile: failed minimal tag size sanity\n",
      "qt.gui.icc: fromIccProfile: failed minimal tag size sanity\n",
      "qt.gui.icc: fromIccProfile: failed minimal tag size sanity\n",
      "qt.gui.icc: fromIccProfile: failed minimal tag size sanity\n",
      "qt.gui.icc: fromIccProfile: failed minimal tag size sanity\n",
      "qt.gui.icc: fromIccProfile: failed minimal tag size sanity\n",
      "qt.gui.icc: fromIccProfile: failed minimal tag size sanity\n",
      "qt.gui.icc: fromIccProfile: failed minimal tag size sanity\n",
      "qt.gui.icc: fromIccProfile: failed minimal tag size sanity\n",
      "qt.gui.icc: fromIccProfile: failed minimal tag size sanity\n",
      "qt.gui.icc: fromIccProfile: failed minimal tag size sanity\n",
      "qt.gui.icc: fromIccProfile: failed minimal tag size sanity\n",
      "qt.gui.icc: fromIccProfile: failed minimal tag size sanity\n",
      "qt.gui.icc: fromIccProfile: failed minimal tag size sanity\n",
      "qt.gui.icc: fromIccProfile: failed minimal tag size sanity\n",
      "qt.gui.icc: fromIccProfile: failed minimal tag size sanity\n",
      "qt.gui.icc: fromIccProfile: failed minimal tag size sanity\n",
      "qt.gui.icc: fromIccProfile: failed minimal tag size sanity\n",
      "qt.gui.icc: fromIccProfile: failed minimal tag size sanity\n",
      "qt.gui.icc: fromIccProfile: failed minimal tag size sanity\n",
      "qt.gui.icc: fromIccProfile: failed minimal tag size sanity\n",
      "qt.gui.icc: fromIccProfile: failed minimal tag size sanity\n",
      "qt.gui.icc: fromIccProfile: failed minimal tag size sanity\n",
      "qt.gui.icc: fromIccProfile: failed minimal tag size sanity\n",
      "qt.gui.icc: fromIccProfile: failed minimal tag size sanity\n",
      "qt.gui.icc: fromIccProfile: failed minimal tag size sanity\n",
      "qt.gui.icc: fromIccProfile: failed minimal tag size sanity\n",
      "qt.gui.icc: fromIccProfile: failed minimal tag size sanity\n",
      "qt.gui.icc: fromIccProfile: failed minimal tag size sanity\n",
      "qt.gui.icc: fromIccProfile: failed minimal tag size sanity\n",
      "qt.gui.icc: fromIccProfile: failed minimal tag size sanity\n",
      "labelImg.py:965: DeprecationWarning: an integer is required (got type float).  Implicit conversion to integers using __int__ is deprecated, and may be removed in a future version of Python.\n",
      "  bar.setValue(bar.value() + bar.singleStep() * units)\n"
     ]
    }
   ],
   "source": [
    "!cd {LABELIMG_PATH} && python labelImg.py"
   ]
  },
  {
   "cell_type": "markdown",
   "metadata": {},
   "source": [
    "# Colab Training"
   ]
  },
  {
   "cell_type": "code",
   "execution_count": 20,
   "metadata": {},
   "outputs": [],
   "source": [
    "TRAIN_PATH = os.path.join('Tensorflow', 'workspace', 'images', 'train')\n",
    "TEST_PATH = os.path.join('Tensorflow', 'workspace', 'images', 'test')\n",
    "ARCHIVE_PATH = os.path.join('Tensorflow', 'workspace', 'images', 'archive.tar.gz')"
   ]
  },
  {
   "cell_type": "code",
   "execution_count": 21,
   "metadata": {},
   "outputs": [],
   "source": [
    "!tar -czf {ARCHIVE_PATH} {TRAIN_PATH} {TEST_PATH}"
   ]
  }
 ],
 "metadata": {
  "kernelspec": {
   "display_name": "tfod",
   "language": "python",
   "name": "tfod"
  },
  "language_info": {
   "codemirror_mode": {
    "name": "ipython",
    "version": 3
   },
   "file_extension": ".py",
   "mimetype": "text/x-python",
   "name": "python",
   "nbconvert_exporter": "python",
   "pygments_lexer": "ipython3",
   "version": "3.8.3"
  }
 },
 "nbformat": 4,
 "nbformat_minor": 2
}
